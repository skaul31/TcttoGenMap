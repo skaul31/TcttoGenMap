{
 "cells": [
  {
   "cell_type": "code",
   "execution_count": 1,
   "metadata": {
    "scrolled": false
   },
   "outputs": [
    {
     "name": "stderr",
     "output_type": "stream",
     "text": [
      "Loading required package: BiocGenerics\n",
      "\n",
      "Loading required package: parallel\n",
      "\n",
      "\n",
      "Attaching package: 'BiocGenerics'\n",
      "\n",
      "\n",
      "The following objects are masked from 'package:parallel':\n",
      "\n",
      "    clusterApply, clusterApplyLB, clusterCall, clusterEvalQ,\n",
      "    clusterExport, clusterMap, parApply, parCapply, parLapply,\n",
      "    parLapplyLB, parRapply, parSapply, parSapplyLB\n",
      "\n",
      "\n",
      "The following objects are masked from 'package:stats':\n",
      "\n",
      "    IQR, mad, sd, var, xtabs\n",
      "\n",
      "\n",
      "The following objects are masked from 'package:base':\n",
      "\n",
      "    anyDuplicated, append, as.data.frame, basename, cbind, colnames,\n",
      "    dirname, do.call, duplicated, eval, evalq, Filter, Find, get, grep,\n",
      "    grepl, intersect, is.unsorted, lapply, Map, mapply, match, mget,\n",
      "    order, paste, pmax, pmax.int, pmin, pmin.int, Position, rank,\n",
      "    rbind, Reduce, rownames, sapply, setdiff, sort, table, tapply,\n",
      "    union, unique, unsplit, which, which.max, which.min\n",
      "\n",
      "\n",
      "Loading required package: GenomicRanges\n",
      "\n",
      "Loading required package: stats4\n",
      "\n",
      "Loading required package: S4Vectors\n",
      "\n",
      "Warning message:\n",
      "\"package 'S4Vectors' was built under R version 3.6.3\"\n",
      "\n",
      "Attaching package: 'S4Vectors'\n",
      "\n",
      "\n",
      "The following object is masked from 'package:base':\n",
      "\n",
      "    expand.grid\n",
      "\n",
      "\n",
      "Loading required package: IRanges\n",
      "\n",
      "Warning message:\n",
      "\"package 'IRanges' was built under R version 3.6.2\"\n",
      "\n",
      "Attaching package: 'IRanges'\n",
      "\n",
      "\n",
      "The following object is masked from 'package:grDevices':\n",
      "\n",
      "    windows\n",
      "\n",
      "\n",
      "Loading required package: GenomeInfoDb\n",
      "\n",
      "Warning message:\n",
      "\"package 'GenomeInfoDb' was built under R version 3.6.3\"\n",
      "Loading required package: GenomicFeatures\n",
      "\n",
      "Warning message:\n",
      "\"package 'GenomicFeatures' was built under R version 3.6.2\"\n",
      "Loading required package: AnnotationDbi\n",
      "\n",
      "Loading required package: Biobase\n",
      "\n",
      "Welcome to Bioconductor\n",
      "\n",
      "    Vignettes contain introductory material; view with\n",
      "    'browseVignettes()'. To cite Bioconductor, see\n",
      "    'citation(\"Biobase\")', and for packages 'citation(\"pkgname\")'.\n",
      "\n",
      "\n",
      "Loading required package: AnnotationFilter\n",
      "\n",
      "\n",
      "Attaching package: 'ensembldb'\n",
      "\n",
      "\n",
      "The following object is masked from 'package:stats':\n",
      "\n",
      "    filter\n",
      "\n",
      "\n"
     ]
    }
   ],
   "source": [
    "library(ensembldb)"
   ]
  },
  {
   "cell_type": "code",
   "execution_count": 2,
   "metadata": {},
   "outputs": [
    {
     "name": "stderr",
     "output_type": "stream",
     "text": [
      "Loading required package: BiocFileCache\n",
      "\n",
      "Loading required package: dbplyr\n",
      "\n",
      "Warning message:\n",
      "\"package 'dbplyr' was built under R version 3.6.3\"\n",
      "\n",
      "Attaching package: 'AnnotationHub'\n",
      "\n",
      "\n",
      "The following object is masked from 'package:Biobase':\n",
      "\n",
      "    cache\n",
      "\n",
      "\n"
     ]
    }
   ],
   "source": [
    "library(AnnotationHub)"
   ]
  },
  {
   "cell_type": "code",
   "execution_count": 3,
   "metadata": {},
   "outputs": [
    {
     "name": "stderr",
     "output_type": "stream",
     "text": [
      "snapshotDate(): 2019-10-29\n",
      "\n"
     ]
    }
   ],
   "source": [
    "#We need an EnsDb object to run the functions we need and the data for that EnsDb object needs to be retreived from AnnotationHub so we load it into 'ah'\n",
    "ah <- AnnotationHub()"
   ]
  },
  {
   "cell_type": "code",
   "execution_count": 4,
   "metadata": {},
   "outputs": [],
   "source": [
    "#Now we query Annotation Hub for C elegans in the most current release of ensembl which is 99\n",
    "ahDB <- query(ah, pattern = c(\"Caenorhabditis elegans\", \"EnsDb\", 99))"
   ]
  },
  {
   "cell_type": "code",
   "execution_count": 5,
   "metadata": {},
   "outputs": [
    {
     "data": {
      "text/plain": [
       "AnnotationHub with 1 record\n",
       "# snapshotDate(): 2019-10-29 \n",
       "# names(): AH78732\n",
       "# $dataprovider: Ensembl\n",
       "# $species: Caenorhabditis elegans\n",
       "# $rdataclass: EnsDb\n",
       "# $rdatadateadded: 2019-10-29\n",
       "# $title: Ensembl 99 EnsDb for Caenorhabditis elegans\n",
       "# $description: Gene and protein annotations for Caenorhabditis elegans base...\n",
       "# $taxonomyid: 6239\n",
       "# $genome: WBcel235\n",
       "# $sourcetype: ensembl\n",
       "# $sourceurl: http://www.ensembl.org\n",
       "# $sourcesize: NA\n",
       "# $tags: c(\"99\", \"AHEnsDbs\", \"Annotation\", \"EnsDb\", \"Ensembl\", \"Gene\",\n",
       "#   \"Protein\", \"Transcript\") \n",
       "# retrieve record with 'object[[\"AH78732\"]]' "
      ]
     },
     "metadata": {},
     "output_type": "display_data"
    }
   ],
   "source": [
    "#Checking ahDB shows us that we have WBcel235 release of elegans, which is what is found on wormbase and what we used for blast and alignment \n",
    "ahDB"
   ]
  },
  {
   "cell_type": "code",
   "execution_count": 9,
   "metadata": {},
   "outputs": [
    {
     "name": "stderr",
     "output_type": "stream",
     "text": [
      "loading from cache\n",
      "\n"
     ]
    }
   ],
   "source": [
    "#save the record in ahDB as a EnsDB object \n",
    "ahEDB <- ahDB[[1]]\n",
    "#Filter the EnsDB object by chr \n",
    "CelDBII <- filter(ahEDB, filter = ~ seq_name == \"II\")"
   ]
  },
  {
   "cell_type": "code",
   "execution_count": 19,
   "metadata": {
    "scrolled": true
   },
   "outputs": [],
   "source": [
    "#Now we define the position in the CDS, which is 50. We are only looking for that one position so the width is 1 and we are looking in the transcript \"R07G3.1.1\". Important to have right transcript name \n",
    "cdc42_cds <- IRanges(start = c(50), width = c(1),name = rep(\"R07G3.1.1\", 1))\n",
    "#Convert cds to transcript position \n",
    "cdc42 <- cdsToTranscript(cdc42_cds, CelDBII)"
   ]
  },
  {
   "cell_type": "code",
   "execution_count": 20,
   "metadata": {},
   "outputs": [
    {
     "data": {
      "text/plain": [
       "IRanges object with 1 range and 2 metadata columns:\n",
       "                start       end     width | cds_start   cds_end\n",
       "            <integer> <integer> <integer> | <integer> <integer>\n",
       "  R07G3.1.1        55        55         1 |        50        50"
      ]
     },
     "metadata": {},
     "output_type": "display_data"
    }
   ],
   "source": [
    "#Checking cdc42 we find that the position 50 in cds is 55 in transcript \n",
    "cdc42"
   ]
  },
  {
   "cell_type": "code",
   "execution_count": 21,
   "metadata": {},
   "outputs": [],
   "source": [
    "#comvert transcript to genome \n",
    "cdc42_gnm <- transcriptToGenome(cdc42, CelDBII)"
   ]
  },
  {
   "cell_type": "code",
   "execution_count": 22,
   "metadata": {},
   "outputs": [
    {
     "data": {
      "text/plain": [
       "GRangesList object of length 1:\n",
       "$R07G3.1.1\n",
       "GRanges object with 1 range and 5 metadata columns:\n",
       "      seqnames    ranges strand |      exon_id       tx_id exon_rank  tx_start\n",
       "         <Rle> <IRanges>  <Rle> |  <character> <character> <integer> <integer>\n",
       "  [1]       II   7616506      + | R07G3.1.1.e1   R07G3.1.1         1        55\n",
       "         tx_end\n",
       "      <integer>\n",
       "  [1]        55\n",
       "  -------\n",
       "  seqinfo: 1 sequence from WBcel235 genome\n"
      ]
     },
     "metadata": {},
     "output_type": "display_data"
    }
   ],
   "source": [
    "#Spits out the genomic position of nuc 50 in the CDS \n",
    "cdc42_gnm "
   ]
  }
 ],
 "metadata": {
  "kernelspec": {
   "display_name": "R",
   "language": "R",
   "name": "ir"
  },
  "language_info": {
   "codemirror_mode": "r",
   "file_extension": ".r",
   "mimetype": "text/x-r-source",
   "name": "R",
   "pygments_lexer": "r",
   "version": "3.6.1"
  }
 },
 "nbformat": 4,
 "nbformat_minor": 4
}
