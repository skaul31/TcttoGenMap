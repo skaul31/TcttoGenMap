{
 "cells": [
  {
   "cell_type": "code",
   "execution_count": 5,
   "metadata": {},
   "outputs": [],
   "source": [
    "from Bio import SeqIO, AlignIO\n",
    "import sys "
   ]
  },
  {
   "cell_type": "markdown",
   "metadata": {},
   "source": [
    "When entering index position make sure to subtract 1 since python indexes starting from 0. So I want the correct position for 710 but enter 709 instead "
   ]
  },
  {
   "cell_type": "code",
   "execution_count": 216,
   "metadata": {},
   "outputs": [],
   "source": [
    "index = 597\n",
    "original_path = 'ect2Prot.fasta'\n",
    "alignment_path = 'ect2protaln.fasta'"
   ]
  },
  {
   "cell_type": "markdown",
   "metadata": {},
   "source": [
    "Reading in the alignment files and original seq files. MAKE SURE THE ORDER OF SPECIES IN THE ALIGNMENT AND ORIGINAL FILES IS THE SAME"
   ]
  },
  {
   "cell_type": "code",
   "execution_count": 217,
   "metadata": {},
   "outputs": [],
   "source": [
    "alignment = AlignIO.read(alignment_path, 'fasta')\n",
    "original = SeqIO.parse(original_path, 'fasta')"
   ]
  },
  {
   "cell_type": "markdown",
   "metadata": {},
   "source": [
    "The gaps variable is where the no of gaps in each sequence in the alignment based on the index entered are stored. \n",
    "\n",
    "Index in the original file is the length in alignment file minus the no. of gaps. That is stored in the original_index variable \n",
    "\n",
    "I added one to the index and original_index in the print statement since python index starts from 0\n",
    "\n",
    "Output shows the residue in each sequence and also the location in the alignment as well as the correct position in the actual sequence. I checked this with geneious "
   ]
  },
  {
   "cell_type": "code",
   "execution_count": 218,
   "metadata": {
    "scrolled": false
   },
   "outputs": [
    {
     "name": "stdout",
     "output_type": "stream",
     "text": [
      "The residue T at location 598 in the alignment can be found at location 561 in CELEG.\n",
      "The residue N at location 598 in the alignment can be found at location 558 in CSP34.\n",
      "The residue T at location 598 in the alignment can be found at location 579 in CBRIG.\n",
      "The residue T at location 598 in the alignment can be found at location 562 in CSINI.\n",
      "The residue T at location 598 in the alignment can be found at location 562 in CSP26.\n",
      "The residue T at location 598 in the alignment can be found at location 562 in CSP40.\n",
      "The residue T at location 598 in the alignment can be found at location 562 in CREMA.\n",
      "The residue T at location 598 in the alignment can be found at location 562 in CLATE.\n",
      "The residue T at location 598 in the alignment can be found at location 563 in CBREN.\n",
      "The residue T at location 598 in the alignment can be found at location 552 in CTROP.\n",
      "The residue T at location 598 in the alignment can be found at location 578 in CDOUG.\n"
     ]
    }
   ],
   "source": [
    "for original_record, alignment_record in zip(original, alignment):\n",
    "    alignment_seq = str(alignment_record.seq)\n",
    "    original_seq = str(original_record.seq)\n",
    "    gaps = alignment_seq[:index].count('-')\n",
    "    original_index = len(alignment_seq[:index]) - gaps\n",
    "    if alignment_seq[index] == '-': \n",
    "        print(\"There is a - at location {} in species {}.\".format(index + 1,original_record.id.split('|')[-1]))\n",
    "    else: \n",
    "        assert alignment_seq[index] ==  original_seq[original_index]\n",
    "        print (\"The residue {} at location {} in the alignment can be\"\n",
    "               \" found at location {} in {}.\".format(alignment_seq[index],\n",
    "               index + 1, original_index + 1, original_record.id.split('|')[-1]))"
   ]
  }
 ],
 "metadata": {
  "kernelspec": {
   "display_name": "Python 3",
   "language": "python",
   "name": "python3"
  },
  "language_info": {
   "codemirror_mode": {
    "name": "ipython",
    "version": 3
   },
   "file_extension": ".py",
   "mimetype": "text/x-python",
   "name": "python",
   "nbconvert_exporter": "python",
   "pygments_lexer": "ipython3",
   "version": "3.7.1"
  }
 },
 "nbformat": 4,
 "nbformat_minor": 4
}
