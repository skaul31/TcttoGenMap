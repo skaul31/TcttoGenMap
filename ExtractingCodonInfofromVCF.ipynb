{
 "cells": [
  {
   "cell_type": "code",
   "execution_count": 2,
   "metadata": {},
   "outputs": [
    {
     "name": "stderr",
     "output_type": "stream",
     "text": [
      "Warning message:\n",
      "\"package 'PopGenome' was built under R version 3.6.3\"\n",
      "Loading required package: ff\n",
      "\n",
      "Warning message:\n",
      "\"package 'ff' was built under R version 3.6.3\"\n",
      "Loading required package: bit\n",
      "\n",
      "Warning message:\n",
      "\"package 'bit' was built under R version 3.6.2\"\n",
      "Attaching package bit\n",
      "\n",
      "package:bit (c) 2008-2012 Jens Oehlschlaegel (GPL-2)\n",
      "\n",
      "creators: bit bitwhich\n",
      "\n",
      "coercion: as.logical as.integer as.bit as.bitwhich which\n",
      "\n",
      "operator: ! & | xor != ==\n",
      "\n",
      "querying: print length any all min max range sum summary\n",
      "\n",
      "bit access: length<- [ [<- [[ [[<-\n",
      "\n",
      "for more help type ?bit\n",
      "\n",
      "\n",
      "Attaching package: 'bit'\n",
      "\n",
      "\n",
      "The following object is masked from 'package:base':\n",
      "\n",
      "    xor\n",
      "\n",
      "\n",
      "Attaching package ff\n",
      "\n",
      "- getOption(\"fftempdir\")==\"C:/Users/Samiksha/AppData/Local/Temp/RtmpwFRWQt\"\n",
      "\n",
      "\n",
      "- getOption(\"ffextension\")==\"ff\"\n",
      "\n",
      "\n",
      "- getOption(\"ffdrop\")==TRUE\n",
      "\n",
      "\n",
      "- getOption(\"fffinonexit\")==TRUE\n",
      "\n",
      "\n",
      "- getOption(\"ffpagesize\")==65536\n",
      "\n",
      "\n",
      "- getOption(\"ffcaching\")==\"mmnoflush\"  -- consider \"ffeachflush\" if your system stalls on large writes\n",
      "\n",
      "\n",
      "- getOption(\"ffbatchbytes\")==84557168.64 -- consider a different value for tuning your system\n",
      "\n",
      "\n",
      "- getOption(\"ffmaxbytes\")==4227858432 -- consider a different value for tuning your system\n",
      "\n",
      "\n",
      "\n",
      "Attaching package: 'ff'\n",
      "\n",
      "\n",
      "The following objects are masked from 'package:bit':\n",
      "\n",
      "    clone, clone.default, clone.list\n",
      "\n",
      "\n",
      "The following objects are masked from 'package:utils':\n",
      "\n",
      "    write.csv, write.csv2\n",
      "\n",
      "\n",
      "The following objects are masked from 'package:base':\n",
      "\n",
      "    is.factor, is.ordered\n",
      "\n",
      "\n"
     ]
    }
   ],
   "source": [
    "library(PopGenome)"
   ]
  },
  {
   "cell_type": "markdown",
   "metadata": {},
   "source": [
    "Read in your vcf with a trimmed gff3 file that only has the information from the CDS of interest. \n",
    "syntax: <GENOME.class <- readVCF(\"filename.vcf.gz\",No. of snps to be read in as a chunk,\"chr id\",starting position,ending position,gffpath=\"Gff_filename.gff3\")>\n",
    "Make sure that the frompos (starting position) and topos (ending position) correspond with the genomic location of the transcript of interest "
   ]
  },
  {
   "cell_type": "code",
   "execution_count": 3,
   "metadata": {
    "scrolled": true
   },
   "outputs": [
    {
     "name": "stdout",
     "output_type": "stream",
     "text": [
      "\n",
      "GFF information ...\n",
      "vcff::open : file opened, contains 330 samples\n",
      "[1] \"Available ContigIdentifiers (parameter tid):\"\n",
      "[1] \"I\"     \"II\"    \"III\"   \"IV\"    \"V\"     \"X\"     \"MtDNA\"\n",
      "|            :            |            :            | 100 %\n",
      "|====================================================\n"
     ]
    }
   ],
   "source": [
    "GENOME.class_par2 <- readVCF(\"Elegans.vcf.gz\",1000,\"III\",1081401,1095077,gffpath=\"Elegans_CDS_par2.gff3\")"
   ]
  },
  {
   "cell_type": "markdown",
   "metadata": {},
   "source": [
    "Need to set the SNPs in the VCF as synonymous or non-synononymous so use the set.synnonsyn function with the reference chromosome fasta file fromt the WBcel235 release for C. elegans "
   ]
  },
  {
   "cell_type": "code",
   "execution_count": 4,
   "metadata": {},
   "outputs": [
    {
     "name": "stderr",
     "output_type": "stream",
     "text": [
      "opening ff C:/Users/Samiksha/AppData/Local/Temp/RtmpwFRWQt/ff4e847fbd78b6.ff\n",
      "\n",
      "opening ff C:/Users/Samiksha/AppData/Local/Temp/RtmpwFRWQt/ff4e8411505a48.ff\n",
      "\n",
      "opening ff C:/Users/Samiksha/AppData/Local/Temp/RtmpwFRWQt/ff4e8438107b3f.ff\n",
      "\n"
     ]
    }
   ],
   "source": [
    "GENOME.class_par2 <- set.synnonsyn(GENOME.class_par2, ref.chr=\"ElegansIII.fa\",save.codons=TRUE)"
   ]
  },
  {
   "cell_type": "markdown",
   "metadata": {},
   "source": [
    "Now you can use get.codons on the GENOME.class object to get a list of SNPs within the positions mentioned and the changes caused by them "
   ]
  },
  {
   "cell_type": "code",
   "execution_count": 5,
   "metadata": {},
   "outputs": [],
   "source": [
    "codon_par2 <- get.codons(GENOME.class_par2,1)"
   ]
  },
  {
   "cell_type": "markdown",
   "metadata": {},
   "source": [
    "The dataframe from get.codons has been saved in codon_par2. Major indicates reference and minor indicates the alternative in the VCF. Synonymous being true indicates a silent mutation. "
   ]
  },
  {
   "cell_type": "code",
   "execution_count": 6,
   "metadata": {},
   "outputs": [
    {
     "data": {
      "text/html": [
       "<table>\n",
       "<caption>A data.frame: 38 × 8</caption>\n",
       "<thead>\n",
       "\t<tr><th scope=col>Position</th><th scope=col>Codons (minor)</th><th scope=col>Codons (major)</th><th scope=col>Protein (minor)</th><th scope=col>Protein (major)</th><th scope=col>synonymous</th><th scope=col>Polarity (major)</th><th scope=col>Polarity (minor)</th></tr>\n",
       "\t<tr><th scope=col>&lt;int&gt;</th><th scope=col>&lt;fct&gt;</th><th scope=col>&lt;fct&gt;</th><th scope=col>&lt;fct&gt;</th><th scope=col>&lt;fct&gt;</th><th scope=col>&lt;lgl&gt;</th><th scope=col>&lt;fct&gt;</th><th scope=col>&lt;fct&gt;</th></tr>\n",
       "</thead>\n",
       "<tbody>\n",
       "\t<tr><td>1081710</td><td>TTT</td><td>TTC</td><td>F</td><td>F</td><td> TRUE</td><td>nonpolar</td><td>nonpolar</td></tr>\n",
       "\t<tr><td>1087809</td><td>CGT</td><td>CGC</td><td>R</td><td>R</td><td> TRUE</td><td>basic   </td><td>basic   </td></tr>\n",
       "\t<tr><td>1087834</td><td>ACC</td><td>GCC</td><td>T</td><td>A</td><td>FALSE</td><td>polar   </td><td>nonpolar</td></tr>\n",
       "\t<tr><td>1087836</td><td>GCG</td><td>GCC</td><td>A</td><td>A</td><td> TRUE</td><td>nonpolar</td><td>nonpolar</td></tr>\n",
       "\t<tr><td>1087842</td><td>AGC</td><td>AGT</td><td>S</td><td>S</td><td> TRUE</td><td>polar   </td><td>polar   </td></tr>\n",
       "\t<tr><td>1087866</td><td>CCA</td><td>CCG</td><td>P</td><td>P</td><td> TRUE</td><td>nonpolar</td><td>nonpolar</td></tr>\n",
       "\t<tr><td>1087876</td><td>ACG</td><td>TCG</td><td>T</td><td>S</td><td>FALSE</td><td>polar   </td><td>polar   </td></tr>\n",
       "\t<tr><td>1087881</td><td>CTA</td><td>CTC</td><td>L</td><td>L</td><td> TRUE</td><td>nonpolar</td><td>nonpolar</td></tr>\n",
       "\t<tr><td>1087929</td><td>CTT</td><td>CTG</td><td>L</td><td>L</td><td> TRUE</td><td>nonpolar</td><td>nonpolar</td></tr>\n",
       "\t<tr><td>1087934</td><td>CCC</td><td>CTC</td><td>P</td><td>L</td><td>FALSE</td><td>nonpolar</td><td>nonpolar</td></tr>\n",
       "\t<tr><td>1087953</td><td>CGG</td><td>CGC</td><td>R</td><td>R</td><td> TRUE</td><td>basic   </td><td>basic   </td></tr>\n",
       "\t<tr><td>1088012</td><td>AAT</td><td>AGT</td><td>N</td><td>S</td><td>FALSE</td><td>polar   </td><td>polar   </td></tr>\n",
       "\t<tr><td>1088024</td><td>ACT</td><td>AGT</td><td>T</td><td>S</td><td>FALSE</td><td>polar   </td><td>polar   </td></tr>\n",
       "\t<tr><td>1088061</td><td>GAC</td><td>GAT</td><td>D</td><td>D</td><td> TRUE</td><td>acidic  </td><td>acidic  </td></tr>\n",
       "\t<tr><td>1088070</td><td>TCA</td><td>TCC</td><td>S</td><td>S</td><td> TRUE</td><td>polar   </td><td>polar   </td></tr>\n",
       "\t<tr><td>1088073</td><td>GAT</td><td>GAC</td><td>D</td><td>D</td><td> TRUE</td><td>acidic  </td><td>acidic  </td></tr>\n",
       "\t<tr><td>1088130</td><td>TCA</td><td>TCG</td><td>S</td><td>S</td><td> TRUE</td><td>polar   </td><td>polar   </td></tr>\n",
       "\t<tr><td>1088145</td><td>AAG</td><td>AAA</td><td>K</td><td>K</td><td> TRUE</td><td>basic   </td><td>basic   </td></tr>\n",
       "\t<tr><td>1088166</td><td>GTC</td><td>GTT</td><td>V</td><td>V</td><td> TRUE</td><td>nonpolar</td><td>nonpolar</td></tr>\n",
       "\t<tr><td>1088172</td><td>GCC</td><td>GCT</td><td>A</td><td>A</td><td> TRUE</td><td>nonpolar</td><td>nonpolar</td></tr>\n",
       "\t<tr><td>1088238</td><td>CCC</td><td>CCA</td><td>P</td><td>P</td><td> TRUE</td><td>nonpolar</td><td>nonpolar</td></tr>\n",
       "\t<tr><td>1088247</td><td>CCC</td><td>CCG</td><td>P</td><td>P</td><td> TRUE</td><td>nonpolar</td><td>nonpolar</td></tr>\n",
       "\t<tr><td>1088256</td><td>TCG</td><td>TCC</td><td>S</td><td>S</td><td> TRUE</td><td>polar   </td><td>polar   </td></tr>\n",
       "\t<tr><td>1088268</td><td>TCT</td><td>TCG</td><td>S</td><td>S</td><td> TRUE</td><td>polar   </td><td>polar   </td></tr>\n",
       "\t<tr><td>1088294</td><td>AGA</td><td>AAA</td><td>R</td><td>K</td><td>FALSE</td><td>basic   </td><td>basic   </td></tr>\n",
       "\t<tr><td>1088300</td><td>GGG</td><td>GTG</td><td>G</td><td>V</td><td>FALSE</td><td>nonpolar</td><td>nonpolar</td></tr>\n",
       "\t<tr><td>1088316</td><td>CCG</td><td>CCA</td><td>P</td><td>P</td><td> TRUE</td><td>nonpolar</td><td>nonpolar</td></tr>\n",
       "\t<tr><td>1088322</td><td>GCG</td><td>GCC</td><td>A</td><td>A</td><td> TRUE</td><td>nonpolar</td><td>nonpolar</td></tr>\n",
       "\t<tr><td>1088367</td><td>AGT</td><td>AGC</td><td>S</td><td>S</td><td> TRUE</td><td>polar   </td><td>polar   </td></tr>\n",
       "\t<tr><td>1088427</td><td>TAC</td><td>TAT</td><td>Y</td><td>Y</td><td> TRUE</td><td>polar   </td><td>polar   </td></tr>\n",
       "\t<tr><td>1088437</td><td>CTG</td><td>TTG</td><td>L</td><td>L</td><td> TRUE</td><td>nonpolar</td><td>nonpolar</td></tr>\n",
       "\t<tr><td>1088442</td><td>CAG</td><td>CAA</td><td>Q</td><td>Q</td><td> TRUE</td><td>basic   </td><td>basic   </td></tr>\n",
       "\t<tr><td>1088502</td><td>GTT</td><td>GTC</td><td>V</td><td>V</td><td> TRUE</td><td>nonpolar</td><td>nonpolar</td></tr>\n",
       "\t<tr><td>1088505</td><td>GCC</td><td>GCA</td><td>A</td><td>A</td><td> TRUE</td><td>nonpolar</td><td>nonpolar</td></tr>\n",
       "\t<tr><td>1091604</td><td>CGT</td><td>CGC</td><td>R</td><td>R</td><td> TRUE</td><td>basic   </td><td>basic   </td></tr>\n",
       "\t<tr><td>1091617</td><td>ACC</td><td>GCC</td><td>T</td><td>A</td><td>FALSE</td><td>polar   </td><td>nonpolar</td></tr>\n",
       "\t<tr><td>1091637</td><td>GCC</td><td>GCT</td><td>A</td><td>A</td><td> TRUE</td><td>nonpolar</td><td>nonpolar</td></tr>\n",
       "\t<tr><td>1091664</td><td>GAA</td><td>GAG</td><td>E</td><td>E</td><td> TRUE</td><td>acidic  </td><td>acidic  </td></tr>\n",
       "</tbody>\n",
       "</table>\n"
      ],
      "text/latex": [
       "A data.frame: 38 × 8\n",
       "\\begin{tabular}{llllllll}\n",
       " Position & Codons (minor) & Codons (major) & Protein (minor) & Protein (major) & synonymous & Polarity (major) & Polarity (minor)\\\\\n",
       " <int> & <fct> & <fct> & <fct> & <fct> & <lgl> & <fct> & <fct>\\\\\n",
       "\\hline\n",
       "\t 1081710 & TTT & TTC & F & F &  TRUE & nonpolar & nonpolar\\\\\n",
       "\t 1087809 & CGT & CGC & R & R &  TRUE & basic    & basic   \\\\\n",
       "\t 1087834 & ACC & GCC & T & A & FALSE & polar    & nonpolar\\\\\n",
       "\t 1087836 & GCG & GCC & A & A &  TRUE & nonpolar & nonpolar\\\\\n",
       "\t 1087842 & AGC & AGT & S & S &  TRUE & polar    & polar   \\\\\n",
       "\t 1087866 & CCA & CCG & P & P &  TRUE & nonpolar & nonpolar\\\\\n",
       "\t 1087876 & ACG & TCG & T & S & FALSE & polar    & polar   \\\\\n",
       "\t 1087881 & CTA & CTC & L & L &  TRUE & nonpolar & nonpolar\\\\\n",
       "\t 1087929 & CTT & CTG & L & L &  TRUE & nonpolar & nonpolar\\\\\n",
       "\t 1087934 & CCC & CTC & P & L & FALSE & nonpolar & nonpolar\\\\\n",
       "\t 1087953 & CGG & CGC & R & R &  TRUE & basic    & basic   \\\\\n",
       "\t 1088012 & AAT & AGT & N & S & FALSE & polar    & polar   \\\\\n",
       "\t 1088024 & ACT & AGT & T & S & FALSE & polar    & polar   \\\\\n",
       "\t 1088061 & GAC & GAT & D & D &  TRUE & acidic   & acidic  \\\\\n",
       "\t 1088070 & TCA & TCC & S & S &  TRUE & polar    & polar   \\\\\n",
       "\t 1088073 & GAT & GAC & D & D &  TRUE & acidic   & acidic  \\\\\n",
       "\t 1088130 & TCA & TCG & S & S &  TRUE & polar    & polar   \\\\\n",
       "\t 1088145 & AAG & AAA & K & K &  TRUE & basic    & basic   \\\\\n",
       "\t 1088166 & GTC & GTT & V & V &  TRUE & nonpolar & nonpolar\\\\\n",
       "\t 1088172 & GCC & GCT & A & A &  TRUE & nonpolar & nonpolar\\\\\n",
       "\t 1088238 & CCC & CCA & P & P &  TRUE & nonpolar & nonpolar\\\\\n",
       "\t 1088247 & CCC & CCG & P & P &  TRUE & nonpolar & nonpolar\\\\\n",
       "\t 1088256 & TCG & TCC & S & S &  TRUE & polar    & polar   \\\\\n",
       "\t 1088268 & TCT & TCG & S & S &  TRUE & polar    & polar   \\\\\n",
       "\t 1088294 & AGA & AAA & R & K & FALSE & basic    & basic   \\\\\n",
       "\t 1088300 & GGG & GTG & G & V & FALSE & nonpolar & nonpolar\\\\\n",
       "\t 1088316 & CCG & CCA & P & P &  TRUE & nonpolar & nonpolar\\\\\n",
       "\t 1088322 & GCG & GCC & A & A &  TRUE & nonpolar & nonpolar\\\\\n",
       "\t 1088367 & AGT & AGC & S & S &  TRUE & polar    & polar   \\\\\n",
       "\t 1088427 & TAC & TAT & Y & Y &  TRUE & polar    & polar   \\\\\n",
       "\t 1088437 & CTG & TTG & L & L &  TRUE & nonpolar & nonpolar\\\\\n",
       "\t 1088442 & CAG & CAA & Q & Q &  TRUE & basic    & basic   \\\\\n",
       "\t 1088502 & GTT & GTC & V & V &  TRUE & nonpolar & nonpolar\\\\\n",
       "\t 1088505 & GCC & GCA & A & A &  TRUE & nonpolar & nonpolar\\\\\n",
       "\t 1091604 & CGT & CGC & R & R &  TRUE & basic    & basic   \\\\\n",
       "\t 1091617 & ACC & GCC & T & A & FALSE & polar    & nonpolar\\\\\n",
       "\t 1091637 & GCC & GCT & A & A &  TRUE & nonpolar & nonpolar\\\\\n",
       "\t 1091664 & GAA & GAG & E & E &  TRUE & acidic   & acidic  \\\\\n",
       "\\end{tabular}\n"
      ],
      "text/markdown": [
       "\n",
       "A data.frame: 38 × 8\n",
       "\n",
       "| Position &lt;int&gt; | Codons (minor) &lt;fct&gt; | Codons (major) &lt;fct&gt; | Protein (minor) &lt;fct&gt; | Protein (major) &lt;fct&gt; | synonymous &lt;lgl&gt; | Polarity (major) &lt;fct&gt; | Polarity (minor) &lt;fct&gt; |\n",
       "|---|---|---|---|---|---|---|---|\n",
       "| 1081710 | TTT | TTC | F | F |  TRUE | nonpolar | nonpolar |\n",
       "| 1087809 | CGT | CGC | R | R |  TRUE | basic    | basic    |\n",
       "| 1087834 | ACC | GCC | T | A | FALSE | polar    | nonpolar |\n",
       "| 1087836 | GCG | GCC | A | A |  TRUE | nonpolar | nonpolar |\n",
       "| 1087842 | AGC | AGT | S | S |  TRUE | polar    | polar    |\n",
       "| 1087866 | CCA | CCG | P | P |  TRUE | nonpolar | nonpolar |\n",
       "| 1087876 | ACG | TCG | T | S | FALSE | polar    | polar    |\n",
       "| 1087881 | CTA | CTC | L | L |  TRUE | nonpolar | nonpolar |\n",
       "| 1087929 | CTT | CTG | L | L |  TRUE | nonpolar | nonpolar |\n",
       "| 1087934 | CCC | CTC | P | L | FALSE | nonpolar | nonpolar |\n",
       "| 1087953 | CGG | CGC | R | R |  TRUE | basic    | basic    |\n",
       "| 1088012 | AAT | AGT | N | S | FALSE | polar    | polar    |\n",
       "| 1088024 | ACT | AGT | T | S | FALSE | polar    | polar    |\n",
       "| 1088061 | GAC | GAT | D | D |  TRUE | acidic   | acidic   |\n",
       "| 1088070 | TCA | TCC | S | S |  TRUE | polar    | polar    |\n",
       "| 1088073 | GAT | GAC | D | D |  TRUE | acidic   | acidic   |\n",
       "| 1088130 | TCA | TCG | S | S |  TRUE | polar    | polar    |\n",
       "| 1088145 | AAG | AAA | K | K |  TRUE | basic    | basic    |\n",
       "| 1088166 | GTC | GTT | V | V |  TRUE | nonpolar | nonpolar |\n",
       "| 1088172 | GCC | GCT | A | A |  TRUE | nonpolar | nonpolar |\n",
       "| 1088238 | CCC | CCA | P | P |  TRUE | nonpolar | nonpolar |\n",
       "| 1088247 | CCC | CCG | P | P |  TRUE | nonpolar | nonpolar |\n",
       "| 1088256 | TCG | TCC | S | S |  TRUE | polar    | polar    |\n",
       "| 1088268 | TCT | TCG | S | S |  TRUE | polar    | polar    |\n",
       "| 1088294 | AGA | AAA | R | K | FALSE | basic    | basic    |\n",
       "| 1088300 | GGG | GTG | G | V | FALSE | nonpolar | nonpolar |\n",
       "| 1088316 | CCG | CCA | P | P |  TRUE | nonpolar | nonpolar |\n",
       "| 1088322 | GCG | GCC | A | A |  TRUE | nonpolar | nonpolar |\n",
       "| 1088367 | AGT | AGC | S | S |  TRUE | polar    | polar    |\n",
       "| 1088427 | TAC | TAT | Y | Y |  TRUE | polar    | polar    |\n",
       "| 1088437 | CTG | TTG | L | L |  TRUE | nonpolar | nonpolar |\n",
       "| 1088442 | CAG | CAA | Q | Q |  TRUE | basic    | basic    |\n",
       "| 1088502 | GTT | GTC | V | V |  TRUE | nonpolar | nonpolar |\n",
       "| 1088505 | GCC | GCA | A | A |  TRUE | nonpolar | nonpolar |\n",
       "| 1091604 | CGT | CGC | R | R |  TRUE | basic    | basic    |\n",
       "| 1091617 | ACC | GCC | T | A | FALSE | polar    | nonpolar |\n",
       "| 1091637 | GCC | GCT | A | A |  TRUE | nonpolar | nonpolar |\n",
       "| 1091664 | GAA | GAG | E | E |  TRUE | acidic   | acidic   |\n",
       "\n"
      ],
      "text/plain": [
       "   Position Codons (minor) Codons (major) Protein (minor) Protein (major)\n",
       "1  1081710  TTT            TTC            F               F              \n",
       "2  1087809  CGT            CGC            R               R              \n",
       "3  1087834  ACC            GCC            T               A              \n",
       "4  1087836  GCG            GCC            A               A              \n",
       "5  1087842  AGC            AGT            S               S              \n",
       "6  1087866  CCA            CCG            P               P              \n",
       "7  1087876  ACG            TCG            T               S              \n",
       "8  1087881  CTA            CTC            L               L              \n",
       "9  1087929  CTT            CTG            L               L              \n",
       "10 1087934  CCC            CTC            P               L              \n",
       "11 1087953  CGG            CGC            R               R              \n",
       "12 1088012  AAT            AGT            N               S              \n",
       "13 1088024  ACT            AGT            T               S              \n",
       "14 1088061  GAC            GAT            D               D              \n",
       "15 1088070  TCA            TCC            S               S              \n",
       "16 1088073  GAT            GAC            D               D              \n",
       "17 1088130  TCA            TCG            S               S              \n",
       "18 1088145  AAG            AAA            K               K              \n",
       "19 1088166  GTC            GTT            V               V              \n",
       "20 1088172  GCC            GCT            A               A              \n",
       "21 1088238  CCC            CCA            P               P              \n",
       "22 1088247  CCC            CCG            P               P              \n",
       "23 1088256  TCG            TCC            S               S              \n",
       "24 1088268  TCT            TCG            S               S              \n",
       "25 1088294  AGA            AAA            R               K              \n",
       "26 1088300  GGG            GTG            G               V              \n",
       "27 1088316  CCG            CCA            P               P              \n",
       "28 1088322  GCG            GCC            A               A              \n",
       "29 1088367  AGT            AGC            S               S              \n",
       "30 1088427  TAC            TAT            Y               Y              \n",
       "31 1088437  CTG            TTG            L               L              \n",
       "32 1088442  CAG            CAA            Q               Q              \n",
       "33 1088502  GTT            GTC            V               V              \n",
       "34 1088505  GCC            GCA            A               A              \n",
       "35 1091604  CGT            CGC            R               R              \n",
       "36 1091617  ACC            GCC            T               A              \n",
       "37 1091637  GCC            GCT            A               A              \n",
       "38 1091664  GAA            GAG            E               E              \n",
       "   synonymous Polarity (major) Polarity (minor)\n",
       "1   TRUE      nonpolar         nonpolar        \n",
       "2   TRUE      basic            basic           \n",
       "3  FALSE      polar            nonpolar        \n",
       "4   TRUE      nonpolar         nonpolar        \n",
       "5   TRUE      polar            polar           \n",
       "6   TRUE      nonpolar         nonpolar        \n",
       "7  FALSE      polar            polar           \n",
       "8   TRUE      nonpolar         nonpolar        \n",
       "9   TRUE      nonpolar         nonpolar        \n",
       "10 FALSE      nonpolar         nonpolar        \n",
       "11  TRUE      basic            basic           \n",
       "12 FALSE      polar            polar           \n",
       "13 FALSE      polar            polar           \n",
       "14  TRUE      acidic           acidic          \n",
       "15  TRUE      polar            polar           \n",
       "16  TRUE      acidic           acidic          \n",
       "17  TRUE      polar            polar           \n",
       "18  TRUE      basic            basic           \n",
       "19  TRUE      nonpolar         nonpolar        \n",
       "20  TRUE      nonpolar         nonpolar        \n",
       "21  TRUE      nonpolar         nonpolar        \n",
       "22  TRUE      nonpolar         nonpolar        \n",
       "23  TRUE      polar            polar           \n",
       "24  TRUE      polar            polar           \n",
       "25 FALSE      basic            basic           \n",
       "26 FALSE      nonpolar         nonpolar        \n",
       "27  TRUE      nonpolar         nonpolar        \n",
       "28  TRUE      nonpolar         nonpolar        \n",
       "29  TRUE      polar            polar           \n",
       "30  TRUE      polar            polar           \n",
       "31  TRUE      nonpolar         nonpolar        \n",
       "32  TRUE      basic            basic           \n",
       "33  TRUE      nonpolar         nonpolar        \n",
       "34  TRUE      nonpolar         nonpolar        \n",
       "35  TRUE      basic            basic           \n",
       "36 FALSE      polar            nonpolar        \n",
       "37  TRUE      nonpolar         nonpolar        \n",
       "38  TRUE      acidic           acidic          "
      ]
     },
     "metadata": {},
     "output_type": "display_data"
    }
   ],
   "source": [
    "codon_par2"
   ]
  },
  {
   "cell_type": "code",
   "execution_count": 7,
   "metadata": {
    "scrolled": true
   },
   "outputs": [
    {
     "name": "stdout",
     "output_type": "stream",
     "text": [
      "\n",
      "GFF information ...\n",
      "vcff::open : file opened, contains 330 samples\n",
      "[1] \"Available ContigIdentifiers (parameter tid):\"\n",
      "[1] \"I\"     \"II\"    \"III\"   \"IV\"    \"V\"     \"X\"     \"MtDNA\"\n",
      "|            :            |            :            | 100 %\n",
      "|====================================================\n"
     ]
    }
   ],
   "source": [
    "GENOME.class_cdc42 <- readVCF(\"Elegans.vcf.gz\",1000,\"II\",7616452,7618245,gffpath=\"Elegans_CDS_cdc42.gff3\")"
   ]
  },
  {
   "cell_type": "code",
   "execution_count": 8,
   "metadata": {},
   "outputs": [
    {
     "name": "stdout",
     "output_type": "stream",
     "text": [
      "WARNING:: No coding SNPs in this region !\n",
      " Region:: 7616452 - 7618245 \n"
     ]
    }
   ],
   "source": [
    "GENOME.class_cdc42 <- set.synnonsyn(GENOME.class_cdc42, ref.chr=\"ElegansII.fa\",save.codons=TRUE)"
   ]
  },
  {
   "cell_type": "markdown",
   "metadata": {},
   "source": [
    "This is what happens when there are no SNPs in the region you have identified in the GENOME.class object"
   ]
  },
  {
   "cell_type": "code",
   "execution_count": null,
   "metadata": {},
   "outputs": [],
   "source": []
  }
 ],
 "metadata": {
  "kernelspec": {
   "display_name": "R",
   "language": "R",
   "name": "ir"
  },
  "language_info": {
   "codemirror_mode": "r",
   "file_extension": ".r",
   "mimetype": "text/x-r-source",
   "name": "R",
   "pygments_lexer": "r",
   "version": "3.6.1"
  }
 },
 "nbformat": 4,
 "nbformat_minor": 4
}
